{
 "cells": [
  {
   "cell_type": "code",
   "execution_count": 1,
   "metadata": {
    "scrolled": true
   },
   "outputs": [
    {
     "name": "stdout",
     "output_type": "stream",
     "text": [
      "(995, 7)\n"
     ]
    },
    {
     "name": "stderr",
     "output_type": "stream",
     "text": [
      "Skipping line 381: Expected 7 fields in line 381, saw 8\n",
      "Skipping line 521: Expected 7 fields in line 521, saw 8\n",
      "Skipping line 894: Expected 7 fields in line 894, saw 8\n",
      "Skipping line 909: Expected 7 fields in line 909, saw 8\n",
      "Skipping line 915: Expected 7 fields in line 915, saw 8\n"
     ]
    }
   ],
   "source": [
    "# coding=utf-8\n",
    "import pandas as pd\n",
    "\n",
    "data_chat = pd.read_csv(\"../data/JDDC_100W训练数据集/训练数据集/chat.txt\", sep = \"\\t\", engine=\"python\", \n",
    "                        warn_bad_lines = True, error_bad_lines = False, nrows = 1000)\n",
    "print(data_chat.shape)"
   ]
  },
  {
   "cell_type": "code",
   "execution_count": 2,
   "metadata": {},
   "outputs": [],
   "source": [
    "import os\n",
    "with open(\"../data/JDDC_100W训练数据集/训练数据集/chat.txt\", \"r\", encoding='UTF-8') as file_chat, open(\"../data/JDDC_100W训练数据集/训练数据集/chat_refined.txt\", \"w\", encoding='UTF-8') as file_chat_refined:\n",
    "    for line in file_chat:\n",
    "        list_col = line.strip(\"\\n\").split(\"\\t\")\n",
    "        line_temp = \"\\t\".join(list_col[0:6])\n",
    "        file_chat_refined.write(line_temp + \"\\t\")\n",
    "        line_talk = \" \".join(list_col[6:])\n",
    "#         print(line_talk)\n",
    "        file_chat_refined.write(line_talk.strip() + \"\\n\")\n",
    "    file_chat_refined.flush()\n",
    "    os.fsync(file_chat_refined.fileno())"
   ]
  },
  {
   "cell_type": "code",
   "execution_count": 4,
   "metadata": {},
   "outputs": [
    {
     "name": "stdout",
     "output_type": "stream",
     "text": [
      "(1000, 7)\n"
     ]
    }
   ],
   "source": [
    "data_chat = pd.read_csv(\"../data/JDDC_100W训练数据集/训练数据集/chat_refined.txt\", sep = \"\\t\", engine=\"python\", \n",
    "                        warn_bad_lines = True, error_bad_lines = False, nrows = 1000)\n",
    "print(data_chat.shape)"
   ]
  },
  {
   "cell_type": "code",
   "execution_count": null,
   "metadata": {},
   "outputs": [],
   "source": []
  }
 ],
 "metadata": {
  "kernelspec": {
   "display_name": "tensorflow-cpu",
   "language": "python",
   "name": "tensorflow-cpu"
  },
  "language_info": {
   "codemirror_mode": {
    "name": "ipython",
    "version": 3
   },
   "file_extension": ".py",
   "mimetype": "text/x-python",
   "name": "python",
   "nbconvert_exporter": "python",
   "pygments_lexer": "ipython3",
   "version": "3.6.9"
  },
  "toc": {
   "base_numbering": 1,
   "nav_menu": {},
   "number_sections": true,
   "sideBar": true,
   "skip_h1_title": false,
   "title_cell": "Table of Contents",
   "title_sidebar": "Contents",
   "toc_cell": false,
   "toc_position": {},
   "toc_section_display": true,
   "toc_window_display": false
  }
 },
 "nbformat": 4,
 "nbformat_minor": 2
}
