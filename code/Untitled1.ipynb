{
 "cells": [
  {
   "cell_type": "markdown",
   "metadata": {},
   "source": [
    "# TFIDF基线模型 + top选最长\n",
    "当前最佳得分模型\n",
    "\n",
    "tfidf模型，主要思路是：首先计算用户的问题与问题库中的问题的相似度并选出top15的相似问题，然后去问题库对应的答案库中找出这15个问题对应的答案， 以此作为回答用户问题的候选答案。代码参考：https://github.com/WenDesi/sentenceSimilarity 运行于python3.6环境下。\n",
    "\n",
    "用TFIDF方法做检索，其基本过程如下：\n",
    "假设输入查询为query，query中包含n个词语，分别是q1、q2、…、qn；语料库为D，包含若干个句子。\n",
    "\n",
    "step 1. 对语料库D中的所有句子进行分词；\n",
    "\n",
    "step 2. 构建bag-of-word模型，给每个词一个id；\n",
    "\n",
    "step 3. 计算语料库D中所有词的tfidf值；\n",
    "\n",
    "step 4. 计算语料库D中所有句子的tfidf向量表达；\n",
    "\n",
    "对于任一句子，其tfidf向量表达是句子中所有词的tfidf值构成的向量，保留词的先后顺序。\n",
    "step 5. 对query分词，生成tfidf向量表达，计算该向量与语料库D中所有句子向量的相似度，选取top N作为检索结果。\n",
    "\n",
    "基于TFIDF检索式方案，生成结果的方式默认是直接选择最相似的对话的A作为结果输出，这样做的问题是选择范围过于狭小。事实上，根据我们的观察，相似性top10的对话其实都比较接近，难以评判哪一个是最相似，因此，我们认为在top10相似对话的所有A中产生结果更为合理。\n",
    "\n",
    "随之而来的问题是，如何在10个候选结果中找出最好的结果，使得deltaBleu得分最高？最开始，我们采用强化学习中的DQN方法来进行选择，直接采用bleu得分作为奖励，但是并没有带来有效的提升，甚至得分下降。针对这种情况，我们分析的结论是：DQN的目标是优化长期奖励，不适用这种仅有一个回合的场景。使用强化学习的方案遇挫，我们不得不重新回到数据上寻找答案。**在逐个观察了约100个用户与客服的完整对话记录之后，我们发现，客服的回复通常倾向于比用户说的话更长，这个现象带来的启发是：在10个候选答案中选择最长的。**经测试，top10选最长的方案，大幅提升了deltaBleu评测得分，甚至一度冲上初赛排行榜第2名。"
   ]
  },
  {
   "cell_type": "code",
   "execution_count": 1,
   "metadata": {},
   "outputs": [
    {
     "name": "stdout",
     "output_type": "stream",
     "text": [
      "131411\n"
     ]
    }
   ],
   "source": [
    "# coding=utf-8\n",
    "import pandas as pd\n",
    "import os\n",
    "import matplotlib.pyplot as plt\n",
    "import numpy as np\n",
    "import re\n",
    "# import sklearn\n",
    "\n",
    "\n",
    "data_chat = pd.read_csv(\"../data/JDDC_100W训练数据集/训练数据集/chat_1per.txt\", sep = \"\\t\", engine=\"python\", \n",
    "                        warn_bad_lines = True, error_bad_lines = False, encoding = \"UTF-8\", header = None)\n",
    "\n",
    "n_row = data_chat.shape[0]\n",
    "print(n_row)"
   ]
  },
  {
   "attachments": {},
   "cell_type": "markdown",
   "metadata": {},
   "source": [
    "## 结巴分词，创建语料库\n",
    "\t这里做的工作很简单，就是将所有句子分句储存在texts中，text是一个list list对象\n",
    "\n",
    "## 根据语料库，创建词典"
   ]
  },
  {
   "cell_type": "code",
   "execution_count": 4,
   "metadata": {},
   "outputs": [
    {
     "name": "stdout",
     "output_type": "stream",
     "text": [
      "[(0, 3), (1, 1), (2, 1), (3, 1), (4, 1), (5, 1), (6, 1), (7, 2), (8, 1), (9, 2)]\n",
      "time cost 12.718607425689697 s\n"
     ]
    }
   ],
   "source": [
    "import jieba\n",
    "import time\n",
    "from gensim import corpora, models, similarities\n",
    "\n",
    "time_start=time.time()\n",
    "\n",
    "texts = []\n",
    "for i in range(n_row):\n",
    "    sentence = data_chat.iat[i, 6]\n",
    "    list_word = list(jieba.cut(sentence))\n",
    "    texts.append(list_word)\n",
    "dictionary = corpora.Dictionary(texts)\n",
    "dictionary.filter_extremes(no_below=3, no_above=0.5, keep_n=100000, keep_tokens=None)\n",
    "corpus_simple = [dictionary.doc2bow(text) for text in texts]\n",
    "print(corpus_simple[0])\n",
    "\n",
    "time_end=time.time()\n",
    "print('time cost',time_end-time_start,'s')"
   ]
  },
  {
   "cell_type": "markdown",
   "metadata": {},
   "source": [
    "## 计算tfidf"
   ]
  },
  {
   "cell_type": "code",
   "execution_count": 6,
   "metadata": {},
   "outputs": [
    {
     "name": "stdout",
     "output_type": "stream",
     "text": [
      "time cost 0.2532939910888672 s\n"
     ]
    }
   ],
   "source": [
    "time_start=time.time()\n",
    "\n",
    "tfidf = models.TfidfModel(corpus_simple)\n",
    "corpus = tfidf[corpus_simple]\n",
    "# print(len(corpus[0]))\n",
    "# print(corpus[0])\n",
    "# print(len(corpus[1]))\n",
    "# print(corpus[1])\n",
    "# print(len(corpus[2]))\n",
    "# print(corpus[2])\n",
    "\n",
    "time_end=time.time()\n",
    "print('time cost',time_end-time_start,'s')"
   ]
  },
  {
   "cell_type": "markdown",
   "metadata": {},
   "source": [
    "## 计算相似度矩阵"
   ]
  },
  {
   "cell_type": "code",
   "execution_count": 8,
   "metadata": {},
   "outputs": [
    {
     "ename": "MemoryError",
     "evalue": "",
     "output_type": "error",
     "traceback": [
      "\u001b[1;31m---------------------------------------------------------------------------\u001b[0m",
      "\u001b[1;31mMemoryError\u001b[0m                               Traceback (most recent call last)",
      "\u001b[1;32m<ipython-input-8-a88731d109b9>\u001b[0m in \u001b[0;36m<module>\u001b[1;34m()\u001b[0m\n\u001b[0;32m      1\u001b[0m \u001b[0mtime_start\u001b[0m\u001b[1;33m=\u001b[0m\u001b[0mtime\u001b[0m\u001b[1;33m.\u001b[0m\u001b[0mtime\u001b[0m\u001b[1;33m(\u001b[0m\u001b[1;33m)\u001b[0m\u001b[1;33m\u001b[0m\u001b[1;33m\u001b[0m\u001b[0m\n\u001b[0;32m      2\u001b[0m \u001b[1;33m\u001b[0m\u001b[0m\n\u001b[1;32m----> 3\u001b[1;33m \u001b[0mindex\u001b[0m \u001b[1;33m=\u001b[0m \u001b[0msimilarities\u001b[0m\u001b[1;33m.\u001b[0m\u001b[0mMatrixSimilarity\u001b[0m\u001b[1;33m(\u001b[0m\u001b[0mcorpus\u001b[0m\u001b[1;33m)\u001b[0m\u001b[1;33m\u001b[0m\u001b[1;33m\u001b[0m\u001b[0m\n\u001b[0m\u001b[0;32m      4\u001b[0m \u001b[1;31m# index = similarities.SparseMatrixSimilarity(corpus)\u001b[0m\u001b[1;33m\u001b[0m\u001b[1;33m\u001b[0m\u001b[1;33m\u001b[0m\u001b[0m\n\u001b[0;32m      5\u001b[0m \u001b[1;33m\u001b[0m\u001b[0m\n",
      "\u001b[1;32mD:\\Anaconda3\\lib\\site-packages\\gensim\\similarities\\docsim.py\u001b[0m in \u001b[0;36m__init__\u001b[1;34m(self, corpus, num_best, dtype, num_features, chunksize, corpus_len)\u001b[0m\n\u001b[0;32m    792\u001b[0m                 )\n\u001b[0;32m    793\u001b[0m             \u001b[0mlogger\u001b[0m\u001b[1;33m.\u001b[0m\u001b[0minfo\u001b[0m\u001b[1;33m(\u001b[0m\u001b[1;34m\"creating matrix with %i documents and %i features\"\u001b[0m\u001b[1;33m,\u001b[0m \u001b[0mcorpus_len\u001b[0m\u001b[1;33m,\u001b[0m \u001b[0mnum_features\u001b[0m\u001b[1;33m)\u001b[0m\u001b[1;33m\u001b[0m\u001b[1;33m\u001b[0m\u001b[0m\n\u001b[1;32m--> 794\u001b[1;33m             \u001b[0mself\u001b[0m\u001b[1;33m.\u001b[0m\u001b[0mindex\u001b[0m \u001b[1;33m=\u001b[0m \u001b[0mnumpy\u001b[0m\u001b[1;33m.\u001b[0m\u001b[0mempty\u001b[0m\u001b[1;33m(\u001b[0m\u001b[0mshape\u001b[0m\u001b[1;33m=\u001b[0m\u001b[1;33m(\u001b[0m\u001b[0mcorpus_len\u001b[0m\u001b[1;33m,\u001b[0m \u001b[0mnum_features\u001b[0m\u001b[1;33m)\u001b[0m\u001b[1;33m,\u001b[0m \u001b[0mdtype\u001b[0m\u001b[1;33m=\u001b[0m\u001b[0mdtype\u001b[0m\u001b[1;33m)\u001b[0m\u001b[1;33m\u001b[0m\u001b[1;33m\u001b[0m\u001b[0m\n\u001b[0m\u001b[0;32m    795\u001b[0m             \u001b[1;31m# iterate over corpus, populating the numpy index matrix with (normalized)\u001b[0m\u001b[1;33m\u001b[0m\u001b[1;33m\u001b[0m\u001b[1;33m\u001b[0m\u001b[0m\n\u001b[0;32m    796\u001b[0m             \u001b[1;31m# document vectors\u001b[0m\u001b[1;33m\u001b[0m\u001b[1;33m\u001b[0m\u001b[1;33m\u001b[0m\u001b[0m\n",
      "\u001b[1;31mMemoryError\u001b[0m: "
     ]
    }
   ],
   "source": [
    "time_start=time.time()\n",
    "\n",
    "index = similarities.MatrixSimilarity(corpus)\n",
    "# index = similarities.SparseMatrixSimilarity(corpus)\n",
    "\n",
    "\n",
    "# with open(\"../data/JDDC_100W训练数据集/训练数据集/corpus_simple.pkl\", 'w') as f:\n",
    "#     pickle.dump([dictionary, corpus_simple], f)\n",
    "tfidf.save(\"../data/JDDC_100W训练数据集/训练数据集/tfidf.model\")\n",
    "index.save(\"../data/JDDC_100W训练数据集/训练数据集/index.index\")\n",
    "\n",
    "\n",
    "time_end=time.time()\n",
    "print('time cost',time_end-time_start,'s')"
   ]
  },
  {
   "cell_type": "markdown",
   "metadata": {},
   "source": [
    "## 句子相似度"
   ]
  },
  {
   "cell_type": "code",
   "execution_count": 5,
   "metadata": {
    "collapsed": true
   },
   "outputs": [],
   "source": [
    "# from .utils import Sentence\n",
    "\n",
    "## 先使用sentence2vec将需要匹配的句子传进去\n",
    "def sentence2vec(sentence):\n",
    "    list_word = list(jieba.cut(sentence))\n",
    "    vec_bow = dictionary.doc2bow(list_word)\n",
    "    return tfidf[vec_bow]\n",
    "\n",
    "def similarity(sentence, top=15):\n",
    "    \"\"\"求最相似的句子\"\"\"\n",
    "    sentence_vec = sentence2vec(sentence)\n",
    "    sims = index[sentence_vec]\n",
    "\n",
    "    # 按相似度降序排序\n",
    "    sim_sort = sorted(list(enumerate(sims)), key=lambda item: item[1], reverse=True)\n",
    "    top_15 = sim_sort[0:top]\n",
    "\n",
    "    return top_15"
   ]
  },
  {
   "cell_type": "code",
   "execution_count": 9,
   "metadata": {},
   "outputs": [
    {
     "name": "stdout",
     "output_type": "stream",
     "text": [
      "[(8, 0.96259785), (20197, 0.8543315), (28126, 0.85146356), (63582, 0.76005137), (36310, 0.7396598), (47810, 0.7396598), (57169, 0.7396598), (102335, 0.72044456), (45708, 0.7111318), (21261, 0.7070372), (55965, 0.6933076), (123209, 0.6833998), (102534, 0.67431927), (91662, 0.67117685), (25957, 0.66524637)]\n",
      "您资质过了吗亲\n",
      "好的 收到\n",
      "亲可以在订单下载的\n",
      "亲爱的，增票开出的周期是您资质审核通过的情况下，订单完成之后γ个工作日开具并寄出，麻烦您注意查收哦~\n",
      "一般订单完成γ-γ个工作日开具\n",
      "亲 很抱歉 开不了呢\n",
      "好的  稍等哦\n",
      "是的\n",
      "您提供下订单号呢 刚刚   戴尔(DELL)UγDR γ英寸γK分辨率四边微边框旋转升降IPS屏 HDR 爱眼护眼滤蓝光吃鸡显示器(带HDMI线\n",
      "您好，APP端麻烦您点击对话框右下角的“+”，点击“订单”后，选择一下您需要咨询的订单哦，PC端在我的订单中查看，还请您点击复制给我一下哈，小妹这边帮您查询哦~\n",
      "您好，增票是您这在这里ε，下单选增票，订单完成之后γ-γ工作日京东为您开具寄出的呢!\n",
      "亲亲，您能把您订单号给我一下吗\n",
      "您好，开增票需要在:我的京东-账户设置-增票资质，填写您开具增值税专用发相关信息的，填写提交之后γ个工作日内审核\n",
      "好的 等待订单完成为您申请修改 增票一般是在订单完成状态 并且您的账户增票资质也验证通过后 γ-γ个工作日为您开具，邮寄的哦!\n",
      "β\n"
     ]
    }
   ],
   "source": [
    "result = similarity(\"你好，请问增值税专用发票可以开吧\")\n",
    "print(result)\n",
    "for answer in result:\n",
    "    print(data_chat.iat[answer[0]+1, 6])"
   ]
  },
  {
   "cell_type": "markdown",
   "metadata": {
    "collapsed": true
   },
   "source": [
    "## 余弦相似度函数"
   ]
  },
  {
   "cell_type": "code",
   "execution_count": 18,
   "metadata": {},
   "outputs": [
    {
     "name": "stdout",
     "output_type": "stream",
     "text": [
      "0.8164965809277259\n"
     ]
    }
   ],
   "source": [
    "import jieba\n",
    "\n",
    "def get_word_vector(s1,s2):\n",
    "    \"\"\"\n",
    "    :param s1: 句子1\n",
    "    :param s2: 句子2\n",
    "    :return: 返回句子的余弦相似度\n",
    "    \"\"\"\n",
    "    # 分词\n",
    "    cut1 = jieba.cut(s1)\n",
    "    cut2 = jieba.cut(s2)\n",
    "    list_word1 = (','.join(cut1)).split(',')\n",
    "    list_word2 = (','.join(cut2)).split(',')\n",
    "\n",
    "    # 列出所有的词,取并集\n",
    "    key_word = list(set(list_word1 + list_word2))\n",
    "    # 给定形状和类型的用0填充的矩阵存储向量\n",
    "    word_vector1 = np.zeros(len(key_word))\n",
    "    word_vector2 = np.zeros(len(key_word))\n",
    "\n",
    "    # 计算词频\n",
    "    # 依次确定向量的每个位置的值\n",
    "    for i in range(len(key_word)):\n",
    "        # 遍历key_word中每个词在句子中的出现次数\n",
    "        for j in range(len(list_word1)):\n",
    "            if key_word[i] == list_word1[j]:\n",
    "                word_vector1[i] += 1\n",
    "        for k in range(len(list_word2)):\n",
    "            if key_word[i] == list_word2[k]:\n",
    "                word_vector2[i] += 1\n",
    "\n",
    "    # 输出向量\n",
    "#     print(word_vector1)\n",
    "#     print(word_vector2)\n",
    "    return word_vector1, word_vector2\n",
    "\n",
    "def cos_dist(s1, s2):\n",
    "    \"\"\"\n",
    "    :param vec1: 向量1\n",
    "    :param vec2: 向量2\n",
    "    :return: 返回两个向量的余弦相似度\n",
    "    \"\"\"\n",
    "    vec1, vec2 = get_word_vector(s1, s2)\n",
    "    dist1= float(np.dot(vec1,vec2)/(np.linalg.norm(vec1)*np.linalg.norm(vec2)))\n",
    "    return dist1\n",
    "\n",
    "print(cos_dist(\"我喜欢\", \"我也喜欢\"))"
   ]
  },
  {
   "cell_type": "code",
   "execution_count": 29,
   "metadata": {},
   "outputs": [
    {
     "name": "stdout",
     "output_type": "stream",
     "text": [
      "您资质过了吗亲\n",
      "0.0\n",
      "[[0.         0.         0.16666667 0.18057878 0.         0.12909944\n",
      "  0.         0.         0.0421076  0.14490471 0.12751534 0.33968311\n",
      "  0.12171612 0.18609684 0.        ]\n",
      " [0.         0.         0.20412415 0.22116293 0.         0.31622777\n",
      "  0.66666667 0.35355339 0.36099744 0.13310348 0.07808688 0.\n",
      "  0.1490712  0.45584231 0.        ]\n",
      " [0.16666667 0.20412415 0.         0.24077171 0.12309149 0.12909944\n",
      "  0.13608276 0.28867513 0.         0.25358324 0.19127301 0.\n",
      "  0.18257419 0.27914526 0.        ]\n",
      " [0.18057878 0.22116293 0.24077171 0.         0.31118796 0.\n",
      "  0.19658927 0.41702883 0.09124486 0.54950103 0.64474382 0.28625129\n",
      "  0.52750438 0.55448482 0.        ]\n",
      " [0.         0.         0.12309149 0.31118796 0.         0.\n",
      "  0.         0.         0.18659112 0.08026442 0.42379345 0.\n",
      "  0.26967994 0.44668529 0.        ]\n",
      " [0.12909944 0.31622777 0.12909944 0.         0.         0.\n",
      "  0.42163702 0.         0.48924605 0.         0.04938648 0.\n",
      "  0.         0.28829999 0.        ]\n",
      " [0.         0.66666667 0.13608276 0.19658927 0.         0.42163702\n",
      "  0.         0.23570226 0.48132991 0.14789275 0.05205792 0.\n",
      "  0.0993808  0.49382916 0.        ]\n",
      " [0.         0.35355339 0.28867513 0.41702883 0.         0.\n",
      "  0.23570226 0.         0.         0.18823674 0.22086305 0.\n",
      "  0.21081851 0.32232919 0.        ]\n",
      " [0.0421076  0.36099744 0.         0.09124486 0.18659112 0.48924605\n",
      "  0.48132991 0.         0.         0.03660953 0.16108094 0.08581944\n",
      "  0.06150208 0.43490303 0.        ]\n",
      " [0.14490471 0.13310348 0.25358324 0.54950103 0.08026442 0.\n",
      "  0.14789275 0.18823674 0.03660953 0.         0.47117813 0.46760599\n",
      "  0.43652168 0.37415754 0.        ]\n",
      " [0.12751534 0.07808688 0.19127301 0.64474382 0.42379345 0.04938648\n",
      "  0.05205792 0.22086305 0.16108094 0.47117813 0.         0.30320366\n",
      "  0.55874424 0.56952486 0.        ]\n",
      " [0.33968311 0.         0.         0.28625129 0.         0.\n",
      "  0.         0.         0.08581944 0.46760599 0.30320366 0.\n",
      "  0.24806947 0.22124884 0.        ]\n",
      " [0.12171612 0.1490712  0.18257419 0.52750438 0.26967994 0.\n",
      "  0.0993808  0.21081851 0.06150208 0.43652168 0.55874424 0.24806947\n",
      "  0.         0.39072951 0.        ]\n",
      " [0.18609684 0.45584231 0.27914526 0.55448482 0.44668529 0.28829999\n",
      "  0.49382916 0.32232919 0.43490303 0.37415754 0.56952486 0.22124884\n",
      "  0.39072951 0.         0.        ]\n",
      " [0.         0.         0.         0.         0.         0.\n",
      "  0.         0.         0.         0.         0.         0.\n",
      "  0.         0.         0.        ]]\n"
     ]
    }
   ],
   "source": [
    "print(data_chat.iat[result[0][0]+1, 6])\n",
    "print(cos_dist(data_chat.iat[result[0][0]+1, 6], data_chat.iat[result[1][0]+1, 6]))\n",
    "\n",
    "\n",
    "x_sim = np.zeros((len(result), len(result)))\n",
    "for i in range(len(result)):\n",
    "    for j in range(len(result)):\n",
    "        if i != j:\n",
    "            x_sim[i][j] = cos_dist(data_chat.iat[result[i][0]+1, 6], data_chat.iat[result[j][0]+1, 6]);\n",
    "#             print(\"i j: \" + str(i) + \" \" + str(j) + \" \" + str(cos_dist(data_chat.iat[result[i][0]+1, 6], data_chat.iat[result[j][0]+1, 6])))\n",
    "\n",
    "print(x_sim)"
   ]
  },
  {
   "cell_type": "code",
   "execution_count": 30,
   "metadata": {},
   "outputs": [
    {
     "data": {
      "image/png": "[encoded data removed]",
      "text/plain": [
       "<Figure size 720x1440 with 1 Axes>"
      ]
     },
     "metadata": {},
     "output_type": "display_data"
    }
   ],
   "source": [
    "from matplotlib import pyplot as plt\n",
    "fig,ax=plt.subplots(figsize=(10,20))\n",
    "im=ax.imshow(x_sim,cmap='plasma_r')\n",
    "plt.show()"
   ]
  },
  {
   "cell_type": "markdown",
   "metadata": {
    "collapsed": true
   },
   "source": [
    "## result\n",
    "我们从top15中选取result的方式是选取和其他句子相似度和最大的。  \n",
    "从heatmap可以看出，13th句子和其他句子有最大相似度，其内容非常匹配Q。"
   ]
  },
  {
   "cell_type": "code",
   "execution_count": null,
   "metadata": {
    "collapsed": true
   },
   "outputs": [],
   "source": [
    "x_sum = np.zeros((len(result, 0)))\n",
    "for i in range(len(result)):\n",
    "    x_sum[i] = x_sim[i].sum()\n",
    "n_result = np.argmax(x_sum)\n",
    "print(n_result, data_chat.iat[result[n_result][0]+1, 6])"
   ]
  }
 ],
 "metadata": {
  "kernelspec": {
   "display_name": "Python 3",
   "language": "python",
   "name": "python3"
  },
  "language_info": {
   "codemirror_mode": {
    "name": "ipython",
    "version": 3
   },
   "file_extension": ".py",
   "mimetype": "text/x-python",
   "name": "python",
   "nbconvert_exporter": "python",
   "pygments_lexer": "ipython3",
   "version": "3.6.7"
  },
  "toc": {
   "base_numbering": 1,
   "nav_menu": {},
   "number_sections": true,
   "sideBar": true,
   "skip_h1_title": false,
   "title_cell": "Table of Contents",
   "title_sidebar": "Contents",
   "toc_cell": false,
   "toc_position": {},
   "toc_section_display": true,
   "toc_window_display": false
  }
 },
 "nbformat": 4,
 "nbformat_minor": 2
}
